{
  "nbformat": 4,
  "nbformat_minor": 0,
  "metadata": {
    "colab": {
      "provenance": []
    },
    "kernelspec": {
      "name": "python3",
      "display_name": "Python 3"
    },
    "language_info": {
      "name": "python"
    }
  },
  "cells": [
    {
      "cell_type": "code",
      "execution_count": null,
      "metadata": {
        "id": "WH-nyeWmTCKl"
      },
      "outputs": [],
      "source": [
        "# Installing libraries\n",
        "pip install bs4"
      ]
    },
    {
      "cell_type": "code",
      "source": [
        "# Installing libraries\n",
        "pip install requests"
      ],
      "metadata": {
        "id": "bLUPdRdCTI5X"
      },
      "execution_count": null,
      "outputs": []
    },
    {
      "cell_type": "code",
      "source": [
        "# Importing the libraries-\n",
        "import requests\n",
        "from bs4 import BeautifulSoup\n",
        "import pandas as pd"
      ],
      "metadata": {
        "id": "D_5nFFPmUC-Q"
      },
      "execution_count": 5,
      "outputs": []
    },
    {
      "cell_type": "code",
      "source": [
        "# Get the URL of the web-site you want to scrape\n",
        "url=\"http://quotes.toscrape.com/page/1/\""
      ],
      "metadata": {
        "id": "5Y-s0QkDUGYM"
      },
      "execution_count": 6,
      "outputs": []
    },
    {
      "cell_type": "code",
      "source": [
        "# Fetching the data from the requested URL\n",
        "response=requests.get(url)"
      ],
      "metadata": {
        "id": "Wk-Wl52lUYRr"
      },
      "execution_count": 13,
      "outputs": []
    },
    {
      "cell_type": "code",
      "source": [
        "response=response.content"
      ],
      "metadata": {
        "id": "0y7XEObfUk3J"
      },
      "execution_count": 15,
      "outputs": []
    },
    {
      "cell_type": "code",
      "source": [
        "# Getting the html codes in beautiful and more understandable way\n",
        "soup=BeautifulSoup(response,'html.parser')"
      ],
      "metadata": {
        "id": "O23ApEtKUlzx"
      },
      "execution_count": 17,
      "outputs": []
    },
    {
      "cell_type": "code",
      "source": [
        "div=soup.find('div')"
      ],
      "metadata": {
        "id": "YCa9-haIVCS7"
      },
      "execution_count": 22,
      "outputs": []
    },
    {
      "cell_type": "code",
      "source": [
        "# Scraping the Quotes:-\n",
        "\n",
        "contents=div.find_all('div',class_=\"quote\")\n",
        "\n",
        "for content in contents:\n",
        "  quote=content.find(\"span\",class_='text').text\n",
        "  print(quote)"
      ],
      "metadata": {
        "id": "WZ3KDkZUVf1-"
      },
      "execution_count": null,
      "outputs": []
    },
    {
      "cell_type": "code",
      "source": [
        "# Scraping the Name:-\n",
        "\n",
        "for content in contents:\n",
        "  name=content.find(\"small\",class_='author').text\n",
        "  print(name)"
      ],
      "metadata": {
        "id": "6AuxhLmHVgZZ"
      },
      "execution_count": null,
      "outputs": []
    },
    {
      "cell_type": "code",
      "source": [
        "# Scraping the Tags:-\n",
        "\n",
        "for content in contents:\n",
        "  tags=content.find('meta',class_='keywords')\n",
        "  tags=tags['content']\n",
        "  print(tags)"
      ],
      "metadata": {
        "id": "428lJSgCbOt4"
      },
      "execution_count": null,
      "outputs": []
    },
    {
      "cell_type": "code",
      "source": [
        "# Scraping all the data in 1 function:-\n",
        "\n",
        "contents=div.find_all('div',class_=\"quote\")\n",
        "\n",
        "scrape_data=[]\n",
        "for content in contents:\n",
        "  quote=content.find(\"span\",class_='text').text\n",
        "  name=content.find(\"small\",class_='author').text\n",
        "  tags=content.find('meta',class_='keywords')\n",
        "  tags=tags['content']\n",
        "  scrape_data.append([name,quote,tags])"
      ],
      "metadata": {
        "id": "157hm1-rbyeI"
      },
      "execution_count": 56,
      "outputs": []
    },
    {
      "cell_type": "code",
      "source": [
        "print(scrape_data)"
      ],
      "metadata": {
        "colab": {
          "base_uri": "https://localhost:8080/"
        },
        "id": "CGYloM9RdPRB",
        "outputId": "bf9c78a1-06f7-4f97-8956-e6ff7158f4ee"
      },
      "execution_count": 57,
      "outputs": [
        {
          "output_type": "stream",
          "name": "stdout",
          "text": [
            "[['Albert Einstein', '“The world as we have created it is a process of our thinking. It cannot be changed without changing our thinking.”', 'change,deep-thoughts,thinking,world'], ['J.K. Rowling', '“It is our choices, Harry, that show what we truly are, far more than our abilities.”', 'abilities,choices'], ['Albert Einstein', '“There are only two ways to live your life. One is as though nothing is a miracle. The other is as though everything is a miracle.”', 'inspirational,life,live,miracle,miracles'], ['Jane Austen', '“The person, be it gentleman or lady, who has not pleasure in a good novel, must be intolerably stupid.”', 'aliteracy,books,classic,humor'], ['Marilyn Monroe', \"“Imperfection is beauty, madness is genius and it's better to be absolutely ridiculous than absolutely boring.”\", 'be-yourself,inspirational'], ['Albert Einstein', '“Try not to become a man of success. Rather become a man of value.”', 'adulthood,success,value'], ['André Gide', '“It is better to be hated for what you are than to be loved for what you are not.”', 'life,love'], ['Thomas A. Edison', \"“I have not failed. I've just found 10,000 ways that won't work.”\", 'edison,failure,inspirational,paraphrased'], ['Eleanor Roosevelt', \"“A woman is like a tea bag; you never know how strong it is until it's in hot water.”\", 'misattributed-eleanor-roosevelt'], ['Steve Martin', '“A day without sunshine is like, you know, night.”', 'humor,obvious,simile']]\n"
          ]
        }
      ]
    },
    {
      "cell_type": "code",
      "source": [
        "# Scraping the data from all 10 pages:-\n",
        "\n",
        "Data=[]\n",
        "\n",
        "for i in range(1,11):\n",
        "  url=f'http://quotes.toscrape.com/page/{i}/'\n",
        "  response=requests.get(url)\n",
        "  response=response.content\n",
        "  soup=BeautifulSoup(response,'html.parser')\n",
        "  div=soup.find('div')\n",
        "  contents=div.find_all('div',class_=\"quote\")\n",
        "  for content in contents:\n",
        "   quote=content.find(\"span\",class_='text').text\n",
        "   name=content.find(\"small\",class_='author').text\n",
        "   tags=content.find('meta',class_='keywords')\n",
        "   tags=tags['content']\n",
        "   Data.append([name,quote,tags])\n",
        "print(Data)\n",
        "   "
      ],
      "metadata": {
        "id": "xYfbAjQAdRZ7"
      },
      "execution_count": null,
      "outputs": []
    },
    {
      "cell_type": "code",
      "source": [
        "# To fetch the data into the dataframe:-\n",
        "\n",
        "df=pd.DataFrame(Data,columns=['Author-Name','Quote','Tags'])\n"
      ],
      "metadata": {
        "id": "WbcoHx0KenYl"
      },
      "execution_count": 60,
      "outputs": []
    },
    {
      "cell_type": "code",
      "source": [
        "df.head()"
      ],
      "metadata": {
        "id": "d5vL-eTcfBq0"
      },
      "execution_count": null,
      "outputs": []
    },
    {
      "cell_type": "code",
      "source": [
        "# To save the data-frame into CSC file:-\n",
        "\n",
        "df.to_csv(\"Quotes_scraped.csv\",index=False)"
      ],
      "metadata": {
        "id": "AjTdsV1UfDIE"
      },
      "execution_count": 64,
      "outputs": []
    },
    {
      "cell_type": "code",
      "source": [],
      "metadata": {
        "id": "aBYDzvZJfVRQ"
      },
      "execution_count": null,
      "outputs": []
    }
  ]
}